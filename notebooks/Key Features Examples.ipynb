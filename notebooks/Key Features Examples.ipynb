{
 "cells": [
  {
   "cell_type": "code",
   "execution_count": null,
   "metadata": {},
   "outputs": [],
   "source": [
    "import os\n",
    "import pystops"
   ]
  },
  {
   "cell_type": "markdown",
   "metadata": {},
   "source": [
    "## Establish the location of the results file\n",
    "pystops assumes results are being read from the standard FTA STOPS folder structure:\n",
    "\n",
    "&nbsp;&nbsp;STOPS  \n",
    "&nbsp;&nbsp;&nbsp;&nbsp;|- Districts  \n",
    "&nbsp;&nbsp;&nbsp;&nbsp;|- Inputs  \n",
    "&nbsp;&nbsp;&nbsp;&nbsp;|- OutputData  \n",
    "&nbsp;&nbsp;&nbsp;&nbsp;|- Reports  \n",
    "&nbsp;&nbsp;&nbsp;&nbsp;|- Skims  "
   ]
  },
  {
   "cell_type": "code",
   "execution_count": null,
   "metadata": {},
   "outputs": [],
   "source": [
    "report_file = os.path.join('..', 'data', 'STOPS', 'Reports', 'AC_m19-s19-d19#m19-s19-d19#m20-s19-d19-alt2_20_STOPSY2019Results.prn')"
   ]
  },
  {
   "cell_type": "code",
   "execution_count": null,
   "metadata": {},
   "outputs": [],
   "source": [
    "report_file"
   ]
  },
  {
   "cell_type": "markdown",
   "metadata": {},
   "source": [
    "## Read Skim Files  \n",
    "scenario =  ('exist', 'nobuild', 'build')  \n",
    "mode = ('bs', 'fg', 'tr')  \n",
    "<i>bs=bus only; fg=fixed guideway; tr=all transit</i>  \n",
    "access = ('walk', 'pnr', 'knr')  \n",
    "period = ('op', 'pk')  "
   ]
  },
  {
   "cell_type": "code",
   "execution_count": null,
   "metadata": {},
   "outputs": [],
   "source": [
    "pystops.read_skim(report_file, scenario='nobuild', mode='fg', access='pnr', period='pk').head()"
   ]
  },
  {
   "cell_type": "markdown",
   "metadata": {},
   "source": [
    "## Example Table Reads"
   ]
  },
  {
   "cell_type": "markdown",
   "metadata": {},
   "source": [
    "#### 1.02: Station Listing"
   ]
  },
  {
   "cell_type": "code",
   "execution_count": null,
   "metadata": {},
   "outputs": [],
   "source": [
    "pystops.parse_table(report_file, '1.02').head(3)"
   ]
  },
  {
   "cell_type": "markdown",
   "metadata": {},
   "source": [
    "#### 2.04: Station Group Boardings Prior To Adjustment"
   ]
  },
  {
   "cell_type": "code",
   "execution_count": null,
   "metadata": {},
   "outputs": [],
   "source": [
    "pystops.parse_table(report_file, '2.04').head()"
   ]
  },
  {
   "cell_type": "markdown",
   "metadata": {},
   "source": [
    "#### 4.02: Weekday Incremental Linked Dist-to-Dist Transit Trips, Build, All Trips"
   ]
  },
  {
   "cell_type": "code",
   "execution_count": null,
   "metadata": {},
   "outputs": [],
   "source": [
    "pystops.parse_table(report_file, '4.02')"
   ]
  },
  {
   "cell_type": "markdown",
   "metadata": {},
   "source": [
    "#### 9.01: Average Weekday Station Boardings by Mode of Access"
   ]
  },
  {
   "cell_type": "code",
   "execution_count": null,
   "metadata": {},
   "outputs": [],
   "source": [
    "pystops.parse_table(report_file, '9.01').head()"
   ]
  },
  {
   "cell_type": "markdown",
   "metadata": {},
   "source": [
    "#### 10.01: Average Weekday Route Boardings by Zone (Production-End) Access Type"
   ]
  },
  {
   "cell_type": "code",
   "execution_count": null,
   "metadata": {},
   "outputs": [],
   "source": [
    "pystops.parse_table(report_file, '10.01').head()"
   ]
  },
  {
   "cell_type": "markdown",
   "metadata": {},
   "source": [
    "#### 345.01: Existing WEEKDAY LINKED TRANSIT TRIPS (All Transit/All car HH)"
   ]
  },
  {
   "cell_type": "code",
   "execution_count": null,
   "metadata": {},
   "outputs": [],
   "source": [
    "pystops.parse_table(report_file, '345.01').head()"
   ]
  },
  {
   "cell_type": "markdown",
   "metadata": {},
   "source": [
    "## Summarize Access Mode Percentages"
   ]
  },
  {
   "cell_type": "code",
   "execution_count": null,
   "metadata": {},
   "outputs": [],
   "source": [
    "pystops.summarize_access_modes(report_file, percentage=True)"
   ]
  },
  {
   "cell_type": "code",
   "execution_count": null,
   "metadata": {},
   "outputs": [],
   "source": []
  }
 ],
 "metadata": {
  "kernelspec": {
   "display_name": "pySTOPS",
   "language": "python",
   "name": "python3"
  },
  "language_info": {
   "codemirror_mode": {
    "name": "ipython",
    "version": 3
   },
   "file_extension": ".py",
   "mimetype": "text/x-python",
   "name": "python",
   "nbconvert_exporter": "python",
   "pygments_lexer": "ipython3",
   "version": "3.12.2"
  }
 },
 "nbformat": 4,
 "nbformat_minor": 4
}
